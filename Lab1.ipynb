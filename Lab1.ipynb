{
  "nbformat": 4,
  "nbformat_minor": 0,
  "metadata": {
    "colab": {
      "name": "Lab1.ipynb",
      "provenance": [],
      "authorship_tag": "ABX9TyO7Bxp3m826nQENN5n3buWS",
      "include_colab_link": true
    },
    "kernelspec": {
      "name": "python3",
      "display_name": "Python 3"
    },
    "language_info": {
      "name": "python"
    }
  },
  "cells": [
    {
      "cell_type": "markdown",
      "metadata": {
        "id": "view-in-github",
        "colab_type": "text"
      },
      "source": [
        "<a href=\"https://colab.research.google.com/github/RoyMillamis/CPEN-21A-BSCPE-1-2/blob/main/Lab1.ipynb\" target=\"_parent\"><img src=\"https://colab.research.google.com/assets/colab-badge.svg\" alt=\"Open In Colab\"/></a>"
      ]
    },
    {
      "cell_type": "markdown",
      "metadata": {
        "id": "zwjaiL5I2yt7"
      },
      "source": [
        "# Laboratory 1"
      ]
    },
    {
      "cell_type": "code",
      "metadata": {
        "colab": {
          "base_uri": "https://localhost:8080/"
        },
        "id": "iICcMODk3XPr",
        "outputId": "aab87a63-0f0a-4d5e-9e3a-5717f48b0fb3"
      },
      "source": [
        "##Display \"Welcome to Python Programming”\n",
        "x= \"Welcome to Python Programming\" \n",
        "print(x)"
      ],
      "execution_count": 4,
      "outputs": [
        {
          "output_type": "stream",
          "name": "stdout",
          "text": [
            "Welcome to Python Programming\n"
          ]
        }
      ]
    },
    {
      "cell_type": "code",
      "metadata": {
        "colab": {
          "base_uri": "https://localhost:8080/"
        },
        "id": "eIbv1bKt4Fch",
        "outputId": "e1377d25-d322-4381-edb1-6c80d4586167"
      },
      "source": [
        "# Write a python program that allows you to output your name, address, and age to an appropriate structure.\n",
        "x = \"Name: Roy Millamis\"\n",
        "y = \"Address: Blk 10, Lot 24 Ilang-ilang St. Phase 6 Carsadang Bago II Imus, Cavite\"\n",
        "z = \"Age: 20 Years old\"\n",
        "print(x)\n",
        "print(y)\n",
        "print(z)"
      ],
      "execution_count": 13,
      "outputs": [
        {
          "output_type": "stream",
          "name": "stdout",
          "text": [
            "Name: Roy Millamis\n",
            "Address: Blk 10, Lot 24 Ilang-ilang St. Phase 6 Carsadang Bago II Imus, Cavite\n",
            "Age: 20 Years old\n"
          ]
        }
      ]
    }
  ]
}