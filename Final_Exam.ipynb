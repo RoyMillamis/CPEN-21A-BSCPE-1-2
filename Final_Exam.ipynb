{
  "nbformat": 4,
  "nbformat_minor": 0,
  "metadata": {
    "colab": {
      "name": "Final Exam.ipynb",
      "provenance": [],
      "collapsed_sections": [],
      "authorship_tag": "ABX9TyP6jmA3OuuDkHHC3yW+wGRb",
      "include_colab_link": true
    },
    "kernelspec": {
      "name": "python3",
      "display_name": "Python 3"
    },
    "language_info": {
      "name": "python"
    }
  },
  "cells": [
    {
      "cell_type": "markdown",
      "metadata": {
        "id": "view-in-github",
        "colab_type": "text"
      },
      "source": [
        "<a href=\"https://colab.research.google.com/github/RoyMillamis/CPEN-21A-CPE-1-2/blob/main/Final_Exam.ipynb\" target=\"_parent\"><img src=\"https://colab.research.google.com/assets/colab-badge.svg\" alt=\"Open In Colab\"/></a>"
      ]
    },
    {
      "cell_type": "markdown",
      "source": [
        "## FINAL EXAM\n"
      ],
      "metadata": {
        "id": "LXW9Htx9C4w-"
      }
    },
    {
      "cell_type": "markdown",
      "source": [
        "## PROBLEM STATEMENT 1"
      ],
      "metadata": {
        "id": "56unr5ZVDn63"
      }
    },
    {
      "cell_type": "code",
      "source": [
        "#Create a Python program that will produce an output of sum of 10 numbers less than 5 using FOR LOOP statement.\n",
        "\n",
        "numbers =[1,2,3,4,0,-5,-4,-3,-2,-1,]\n",
        "sum = 0\n",
        "for x in numbers:\n",
        "    sum = sum + x\n",
        "      \n",
        "\n",
        "print(\"The sum of the numbers entered is equal to\",sum)"
      ],
      "metadata": {
        "colab": {
          "base_uri": "https://localhost:8080/"
        },
        "id": "3RDSjCVrq6oM",
        "outputId": "c8015ed5-6179-4724-f26d-25faa051c7dd"
      },
      "execution_count": 85,
      "outputs": [
        {
          "output_type": "stream",
          "name": "stdout",
          "text": [
            "The sum of the numbers entered is equal to -5\n"
          ]
        }
      ]
    },
    {
      "cell_type": "markdown",
      "source": [
        "## PROBLEM STATEMENT 2"
      ],
      "metadata": {
        "id": "HsI4xTpDEx7_"
      }
    },
    {
      "cell_type": "code",
      "source": [
        "#Create a Python program that will produce accept five numbers and determine the of sum first and last number among the five numbers entered using WHILE LOOP\n",
        "\n",
        "num=1\n",
        "while num <=5:\n",
        " x=int(input())\n",
        " if num == 1:\n",
        "   a=x\n",
        " if num == 5:\n",
        "   b=x\n",
        " num+=1\n",
        "print(\"The sum of the first and last number is\",a+b)\n",
        "\n"
      ],
      "metadata": {
        "id": "B3U5mqutE0uH",
        "colab": {
          "base_uri": "https://localhost:8080/"
        },
        "outputId": "95acab7d-21d8-4997-9bdc-8c1a7963cd01"
      },
      "execution_count": 99,
      "outputs": [
        {
          "output_type": "stream",
          "name": "stdout",
          "text": [
            "1\n",
            "2\n",
            "3\n",
            "4\n",
            "5\n",
            "The sum of the first and last number is 6\n"
          ]
        }
      ]
    },
    {
      "cell_type": "markdown",
      "source": [
        "## PROBLEM STATEMENT 3"
      ],
      "metadata": {
        "id": "NIUlbhY_GAkv"
      }
    },
    {
      "cell_type": "code",
      "source": [
        "grade = float(input(\"Enter the grade: \"))\n",
        "if grade >= 90:\n",
        "  print(\"A\")\n",
        "elif grade == 89:\n",
        "  print(\"B\")\n",
        "elif grade >=70:\n",
        "  print(\"C\")\n",
        "elif grade>=60:\n",
        "     print(\"D\")\n",
        "else:\n",
        "  print(\"F\")\n",
        " "
      ],
      "metadata": {
        "colab": {
          "base_uri": "https://localhost:8080/"
        },
        "id": "4g-BVNe3Gt23",
        "outputId": "2b1ebf63-7306-4ec4-ea17-c37cced85f26"
      },
      "execution_count": null,
      "outputs": [
        {
          "output_type": "stream",
          "name": "stdout",
          "text": [
            "Enter the grade: 90\n",
            "A\n"
          ]
        }
      ]
    }
  ]
}