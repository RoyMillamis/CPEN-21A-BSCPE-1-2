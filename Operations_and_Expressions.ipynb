{
  "nbformat": 4,
  "nbformat_minor": 0,
  "metadata": {
    "colab": {
      "name": "Operations and Expressions.ipynb",
      "provenance": [],
      "authorship_tag": "ABX9TyPEwhk0bwMJuh6fCXB37Cev"
    },
    "kernelspec": {
      "name": "python3",
      "display_name": "Python 3"
    },
    "language_info": {
      "name": "python"
    }
  },
  "cells": [
    {
      "cell_type": "markdown",
      "metadata": {
        "id": "XfPGWnNOCc8P"
      },
      "source": [
        "##Bolean Operatons"
      ]
    },
    {
      "cell_type": "code",
      "metadata": {
        "colab": {
          "base_uri": "https://localhost:8080/"
        },
        "id": "oyGQ50P9CiFb",
        "outputId": "c645ee3e-a2ba-40e3-92f1-1ff9318751b2"
      },
      "source": [
        "#Boleans represent one of two values: True or False\n",
        "print(10>9)\n",
        "print(10==9)\n",
        "print(9>10)"
      ],
      "execution_count": 2,
      "outputs": [
        {
          "output_type": "stream",
          "name": "stdout",
          "text": [
            "True\n",
            "False\n",
            "False\n"
          ]
        }
      ]
    },
    {
      "cell_type": "code",
      "metadata": {
        "colab": {
          "base_uri": "https://localhost:8080/"
        },
        "id": "qK2_f2k1C7XX",
        "outputId": "8f212dc1-bbd9-492e-952e-832c3108e361"
      },
      "source": [
        "a=10\n",
        "b=9\n",
        "print(a>b)\n",
        "print(a==a)\n",
        "print(b>a)\n",
        "b>a"
      ],
      "execution_count": 7,
      "outputs": [
        {
          "output_type": "stream",
          "name": "stdout",
          "text": [
            "True\n",
            "True\n",
            "False\n"
          ]
        },
        {
          "output_type": "execute_result",
          "data": {
            "text/plain": [
              "False"
            ]
          },
          "metadata": {},
          "execution_count": 7
        }
      ]
    },
    {
      "cell_type": "code",
      "metadata": {
        "colab": {
          "base_uri": "https://localhost:8080/"
        },
        "id": "qlE7iEOIDxLB",
        "outputId": "dd6600f2-0f05-43b9-a4bf-f06347af30c9"
      },
      "source": [
        "print(bool(\"hello\"))\n",
        "print(bool(15))\n",
        "print(bool(True))"
      ],
      "execution_count": 12,
      "outputs": [
        {
          "output_type": "stream",
          "name": "stdout",
          "text": [
            "True\n",
            "True\n",
            "True\n"
          ]
        }
      ]
    },
    {
      "cell_type": "code",
      "metadata": {
        "colab": {
          "base_uri": "https://localhost:8080/"
        },
        "id": "3IeHnkNhEBMq",
        "outputId": "f010238b-5960-4a3d-9f65-cc46ebf2c898"
      },
      "source": [
        "print(bool(False))\n",
        "print(bool(None))\n",
        "print(bool(0))\n",
        "print(bool([])) #allows you to evaluate and gives False in return"
      ],
      "execution_count": 17,
      "outputs": [
        {
          "output_type": "stream",
          "name": "stdout",
          "text": [
            "False\n",
            "False\n",
            "False\n",
            "False\n"
          ]
        }
      ]
    },
    {
      "cell_type": "code",
      "metadata": {
        "colab": {
          "base_uri": "https://localhost:8080/"
        },
        "id": "25Vs8ddDEsfL",
        "outputId": "83217178-d78a-4601-e429-32e957838827"
      },
      "source": [
        "def myFunction():return True\n",
        "\n",
        "\n",
        "if myFunction():\n",
        " print(\"Yes\")\n",
        "else:\n",
        " print(\"No\")"
      ],
      "execution_count": 27,
      "outputs": [
        {
          "output_type": "stream",
          "name": "stdout",
          "text": [
            "Yes\n"
          ]
        }
      ]
    },
    {
      "cell_type": "code",
      "metadata": {
        "colab": {
          "base_uri": "https://localhost:8080/"
        },
        "id": "T4RDoL-0GH77",
        "outputId": "18bd21b3-7e88-40e9-f471-cde7427db9e9"
      },
      "source": [
        "def myFunction():return False\n",
        "\n",
        "\n",
        "if myFunction():\n",
        " print(\"Yes\")\n",
        "else:\n",
        " print(\"No\")"
      ],
      "execution_count": 28,
      "outputs": [
        {
          "output_type": "stream",
          "name": "stdout",
          "text": [
            "No\n"
          ]
        }
      ]
    },
    {
      "cell_type": "markdown",
      "metadata": {
        "id": "8MNngkOeGasN"
      },
      "source": [
        "# You Try!"
      ]
    },
    {
      "cell_type": "code",
      "metadata": {
        "colab": {
          "base_uri": "https://localhost:8080/"
        },
        "id": "KxmkKtE-GSVP",
        "outputId": "4ecea8dd-c8f1-4c4a-a56f-c712eeb00bf6"
      },
      "source": [
        "a=6\n",
        "b=7\n",
        "print(a==b)\n",
        "print(a!=a)"
      ],
      "execution_count": 29,
      "outputs": [
        {
          "output_type": "stream",
          "name": "stdout",
          "text": [
            "False\n",
            "False\n"
          ]
        }
      ]
    },
    {
      "cell_type": "code",
      "metadata": {
        "colab": {
          "base_uri": "https://localhost:8080/"
        },
        "id": "pB4I1IGFG1nQ",
        "outputId": "c28d9bfc-1f71-4260-a39f-e75d508d450d"
      },
      "source": [
        "print(10+5)\n",
        "print(10-5)\n",
        "print(10*5)\n",
        "print(10/5) #division - Quotient\n",
        "print(10%5) #modulo division\n",
        "print(10%3) #modulo division\n",
        "print(10//3) # Floor division\n",
        "print(10**2) #concatenation"
      ],
      "execution_count": 31,
      "outputs": [
        {
          "output_type": "stream",
          "name": "stdout",
          "text": [
            "15\n",
            "5\n",
            "50\n",
            "2.0\n",
            "0\n",
            "1\n",
            "3\n",
            "100\n"
          ]
        }
      ]
    },
    {
      "cell_type": "code",
      "metadata": {
        "colab": {
          "base_uri": "https://localhost:8080/"
        },
        "id": "Yh4BTbkPJVVs",
        "outputId": "ae98937b-7918-4dc6-9bc1-9277391a2ca6"
      },
      "source": [
        "a=60 #0011 1100\n",
        "b=13 #0000 1101\n",
        "\n",
        "print(a & b) #AND\n",
        "print(a|b) #OR\n",
        "print(a^b) #XOR\n",
        "print(a<<2)\n",
        "print(a>>2)"
      ],
      "execution_count": 41,
      "outputs": [
        {
          "output_type": "stream",
          "name": "stdout",
          "text": [
            "12\n",
            "61\n",
            "49\n",
            "240\n",
            "15\n"
          ]
        }
      ]
    },
    {
      "cell_type": "code",
      "metadata": {
        "colab": {
          "base_uri": "https://localhost:8080/"
        },
        "id": "qI4WZUR6MzRM",
        "outputId": "9e1e3a45-1927-4aa9-d408-bdcfd17ef13f"
      },
      "source": [
        "x=6\n",
        "x+=3 #same as x=x+3\n",
        "print(x)\n",
        "\n",
        "x%=3 #x=6% 3 , remainder 0\n",
        "print(x)"
      ],
      "execution_count": 43,
      "outputs": [
        {
          "output_type": "stream",
          "name": "stdout",
          "text": [
            "9\n",
            "0\n"
          ]
        }
      ]
    },
    {
      "cell_type": "code",
      "metadata": {
        "colab": {
          "base_uri": "https://localhost:8080/"
        },
        "id": "c92wWA3-NjeX",
        "outputId": "28d2543e-f244-40b5-b7bb-f365aae856da"
      },
      "source": [
        "a=True\n",
        "b= False\n",
        "a and b\n",
        "a or b"
      ],
      "execution_count": 44,
      "outputs": [
        {
          "output_type": "execute_result",
          "data": {
            "text/plain": [
              "True"
            ]
          },
          "metadata": {},
          "execution_count": 44
        }
      ]
    },
    {
      "cell_type": "code",
      "metadata": {
        "colab": {
          "base_uri": "https://localhost:8080/"
        },
        "id": "_Dt2V5YQNrTn",
        "outputId": "9f5d0a34-91fb-40f1-c2d8-434f64561d87"
      },
      "source": [
        "a=True\n",
        "b= False\n",
        "print(a and b)\n",
        "print(a or b)\n",
        "print(not(a and b))\n",
        "print(not(a or b)) #negation"
      ],
      "execution_count": 47,
      "outputs": [
        {
          "output_type": "stream",
          "name": "stdout",
          "text": [
            "False\n",
            "True\n",
            "True\n",
            "False\n"
          ]
        }
      ]
    },
    {
      "cell_type": "code",
      "metadata": {
        "colab": {
          "base_uri": "https://localhost:8080/"
        },
        "id": "Plle4V2vOKYG",
        "outputId": "5d13885b-b9a0-486d-d4a5-2eb71c097b9d"
      },
      "source": [
        "a is b\n",
        "a is not b"
      ],
      "execution_count": 49,
      "outputs": [
        {
          "output_type": "execute_result",
          "data": {
            "text/plain": [
              "True"
            ]
          },
          "metadata": {},
          "execution_count": 49
        }
      ]
    },
    {
      "cell_type": "code",
      "metadata": {
        "colab": {
          "base_uri": "https://localhost:8080/"
        },
        "id": "rTo--BeOOSsP",
        "outputId": "c7f2f9e8-5a59-44f2-ced0-a6a1690f6e16"
      },
      "source": [
        "print(a is b)\n",
        "print(a is not b)"
      ],
      "execution_count": 50,
      "outputs": [
        {
          "output_type": "stream",
          "name": "stdout",
          "text": [
            "False\n",
            "True\n"
          ]
        }
      ]
    }
  ]
}