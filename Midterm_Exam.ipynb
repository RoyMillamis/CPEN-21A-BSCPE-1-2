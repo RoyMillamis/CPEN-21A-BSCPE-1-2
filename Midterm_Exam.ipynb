{
  "nbformat": 4,
  "nbformat_minor": 0,
  "metadata": {
    "colab": {
      "name": "Midterm Exam.ipynb",
      "provenance": [],
      "authorship_tag": "ABX9TyM5ctTmtut5X80lEfJmRKVT",
      "include_colab_link": true
    },
    "kernelspec": {
      "name": "python3",
      "display_name": "Python 3"
    },
    "language_info": {
      "name": "python"
    }
  },
  "cells": [
    {
      "cell_type": "markdown",
      "metadata": {
        "id": "view-in-github",
        "colab_type": "text"
      },
      "source": [
        "<a href=\"https://colab.research.google.com/github/RoyMillamis/CPEN-21A-BSCPE-1-2/blob/main/Midterm_Exam.ipynb\" target=\"_parent\"><img src=\"https://colab.research.google.com/assets/colab-badge.svg\" alt=\"Open In Colab\"/></a>"
      ]
    },
    {
      "cell_type": "markdown",
      "metadata": {
        "id": "GERuwNbIE8hL"
      },
      "source": [
        "## Midterm exam"
      ]
    },
    {
      "cell_type": "code",
      "metadata": {
        "colab": {
          "base_uri": "https://localhost:8080/"
        },
        "id": "zVlohsV4FAsy",
        "outputId": "b57de778-68d2-457d-9e7b-01c133de6848"
      },
      "source": [
        "#PROBLEM STATEMENT 1. Provide your necessary information below using python codes.\n",
        "a= \"Name: Roy Datiles Millamis\"\n",
        "b=\"Student Number: 202101651\"\n",
        "c=\"Age: 20\"\n",
        "d=\"Birthday: March 29, 2001\"\n",
        "e=\"Address: Blk 10, Lot 24 Santan St. ACM, Carsadang Bago II Imus, Cavite\"\n",
        "f= \"Course: Bachelor of Sciene in Computer Engineering\"\n",
        "g= \"Last sem GWA: 95\"\n",
        "print(a)\n",
        "print(b)\n",
        "print(c)\n",
        "print(d)\n",
        "print(e)\n",
        "print(f)\n",
        "print(g)"
      ],
      "execution_count": 4,
      "outputs": [
        {
          "output_type": "stream",
          "name": "stdout",
          "text": [
            "Name: Roy Datiles Millamis\n",
            "Student Number: 202101651\n",
            "Age: 20\n",
            "Birthday: March 29, 2001\n",
            "Address: Blk 10, Lot 24 Santan St. ACM, Carsadang Bago II Imus, Cavite\n",
            "Course: Bachelor of Sciene in Computer Engineering\n",
            "Last sem GWA: 95\n"
          ]
        }
      ]
    },
    {
      "cell_type": "code",
      "metadata": {
        "colab": {
          "base_uri": "https://localhost:8080/"
        },
        "id": "x_BVMBAiHa1U",
        "outputId": "213288af-fec5-4876-ecac-ff5abe4a8c3a"
      },
      "source": [
        "#PROBLEM STATEMENT 2. Suppose the numeric variable n has value 4 and the string variable answ has value “Y”. Determine whether each of the following conditions is true or false.\n",
        "n=4\n",
        "answ=\"Y\"\n",
        "print(\"a.\",(2<n) and (n<6)) #a\n",
        "print(\"b.\",(2<n) or (n==6)) #b\n",
        "print(\"c.\",not(2<n) or (n==6)) #c\n",
        "print(\"d.\",not(n<6)) #d\n",
        "print(\"e.\",(answ==\"Y\")or(answ==\"y\")) #e\n",
        "print(\"f.\",(answ==\"Y\")and(answ==\"y\")) #f\n",
        "print(\"g.\",not(answ==\"y\")) #g\n",
        "print(\"h.\",(2<n) and (n==5+1)or (answ==\"No\")) #h\n",
        "print(\"i.\",(n==2)and(n==7)or(answ==\"Y\")) #i\n",
        "print(\"j.\",(n==2)and((n==7)or (answ==\"Y\"))) #j"
      ],
      "execution_count": 55,
      "outputs": [
        {
          "output_type": "stream",
          "name": "stdout",
          "text": [
            "a. True\n",
            "b. True\n",
            "c. False\n",
            "d. False\n",
            "e. True\n",
            "f. False\n",
            "g. True\n",
            "h. False\n",
            "i. True\n",
            "j. False\n"
          ]
        }
      ]
    },
    {
      "cell_type": "code",
      "metadata": {
        "colab": {
          "base_uri": "https://localhost:8080/"
        },
        "id": "Rxn-b6z3NIqr",
        "outputId": "3a281301-bf61-4375-c658-3c8081fd229c"
      },
      "source": [
        "#PROBLEM STATEMENT 3. Write a Python program with the statements that computes and reports the results of each of the following arithmetic expressions. Initialize the following variable: x = 2, y = -3, w = 7, z = -10\n",
        "\n",
        "x= 2\n",
        "y=-3\n",
        "w= 7\n",
        "z=-10\n",
        "print(x/y) #a\n",
        "print(w/y/z) #b\n",
        "print(z/y%x) #c\n",
        "print(x%-y*w) #d\n",
        "print(x%y) #e\n",
        "print(z%w-y/x*5+5) #f\n",
        "print(9-x%(2+y)) #g \n",
        "print(z//w) #h\n",
        "print((2+y)**2) #i\n",
        "print(w/x*2) #j"
      ],
      "execution_count": 47,
      "outputs": [
        {
          "output_type": "stream",
          "name": "stdout",
          "text": [
            "-0.6666666666666666\n",
            "0.23333333333333334\n",
            "1.3333333333333335\n",
            "14\n",
            "-1\n",
            "16.5\n",
            "9\n",
            "-2\n",
            "1\n",
            "7.0\n"
          ]
        }
      ]
    }
  ]
}