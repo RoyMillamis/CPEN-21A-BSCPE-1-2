{
  "nbformat": 4,
  "nbformat_minor": 0,
  "metadata": {
    "colab": {
      "name": "Control Structure.ipynb",
      "provenance": [],
      "authorship_tag": "ABX9TyMfW3sjqBG4EB52yzUdct3s",
      "include_colab_link": true
    },
    "kernelspec": {
      "name": "python3",
      "display_name": "Python 3"
    },
    "language_info": {
      "name": "python"
    }
  },
  "cells": [
    {
      "cell_type": "markdown",
      "metadata": {
        "id": "view-in-github",
        "colab_type": "text"
      },
      "source": [
        "<a href=\"https://colab.research.google.com/github/RoyMillamis/CPEN-21A-CPE-1-2/blob/main/Control_Structure.ipynb\" target=\"_parent\"><img src=\"https://colab.research.google.com/assets/colab-badge.svg\" alt=\"Open In Colab\"/></a>"
      ]
    },
    {
      "cell_type": "markdown",
      "metadata": {
        "id": "Qz5QV-wJH6fk"
      },
      "source": [
        "##If Statement"
      ]
    },
    {
      "cell_type": "code",
      "metadata": {
        "colab": {
          "base_uri": "https://localhost:8080/"
        },
        "id": "Q9E_rWmVH-67",
        "outputId": "0de7dc0a-bc92-4fff-fbe7-9622583df9e7"
      },
      "source": [
        "a=12\n",
        "b=100\n",
        "\n",
        "if b>a:\n",
        "  print(\"b is greater than a\")"
      ],
      "execution_count": 1,
      "outputs": [
        {
          "output_type": "stream",
          "name": "stdout",
          "text": [
            "b is greater than a\n"
          ]
        }
      ]
    },
    {
      "cell_type": "markdown",
      "metadata": {
        "id": "iVYPGvZEIYDr"
      },
      "source": [
        "## ElIf Statement\n"
      ]
    },
    {
      "cell_type": "code",
      "metadata": {
        "colab": {
          "base_uri": "https://localhost:8080/"
        },
        "id": "aU5R3lZdIcYq",
        "outputId": "5e46a24c-7daf-4748-fabf-bad45e4c2efd"
      },
      "source": [
        "a=120\n",
        "b=100\n",
        "\n",
        "if b>a:\n",
        "  print(\"b is greater than a\")\n",
        "\n",
        "elif a>b:\n",
        "    print(\"a is greater than b\")"
      ],
      "execution_count": 6,
      "outputs": [
        {
          "output_type": "stream",
          "name": "stdout",
          "text": [
            "a is greater than b\n"
          ]
        }
      ]
    },
    {
      "cell_type": "markdown",
      "metadata": {
        "id": "ErDZZy-yJGQ7"
      },
      "source": [
        "## Else Statement"
      ]
    },
    {
      "cell_type": "code",
      "metadata": {
        "colab": {
          "base_uri": "https://localhost:8080/"
        },
        "id": "WFjXxBTiJIzs",
        "outputId": "322afc4a-d662-4243-c15b-8dc2ca4f653b"
      },
      "source": [
        "a=100\n",
        "b=100\n",
        "\n",
        "if b>a:\n",
        "  print(\"b is greater than a\")\n",
        "\n",
        "elif a>b:\n",
        "    print(\"a is greater than b\")\n",
        "\n",
        "else:\n",
        "  print(\"a is equal to b\")\n"
      ],
      "execution_count": 7,
      "outputs": [
        {
          "output_type": "stream",
          "name": "stdout",
          "text": [
            "a is equal to b\n"
          ]
        }
      ]
    },
    {
      "cell_type": "markdown",
      "metadata": {
        "id": "7aEhoOoCJzFr"
      },
      "source": [
        "##Short Hand if Statement"
      ]
    },
    {
      "cell_type": "code",
      "metadata": {
        "colab": {
          "base_uri": "https://localhost:8080/"
        },
        "id": "mbYzyS8bJ2z6",
        "outputId": "293a62ad-2832-4491-bfd2-eb440a31d612"
      },
      "source": [
        "a=45\n",
        "b=30\n",
        "\n",
        "if a>b:print(\"a is greater than b\")"
      ],
      "execution_count": 8,
      "outputs": [
        {
          "output_type": "stream",
          "name": "stdout",
          "text": [
            "a is greater than b\n"
          ]
        }
      ]
    },
    {
      "cell_type": "code",
      "metadata": {
        "id": "q8cHGpZwKDEU"
      },
      "source": [
        ""
      ],
      "execution_count": null,
      "outputs": []
    },
    {
      "cell_type": "markdown",
      "metadata": {
        "id": "eW09dXHvJ_wU"
      },
      "source": [
        "##Short Hand Else Statement"
      ]
    },
    {
      "cell_type": "code",
      "metadata": {
        "colab": {
          "base_uri": "https://localhost:8080/"
        },
        "id": "If4CDp7PKFLc",
        "outputId": "9fc97cc0-ec70-4163-a4cc-d300e483c8b5"
      },
      "source": [
        "a=45\n",
        "b=30\n",
        "\n",
        "print(\"a is greater than b\")if a>b else print(\"b is greater than a\")"
      ],
      "execution_count": 9,
      "outputs": [
        {
          "output_type": "stream",
          "name": "stdout",
          "text": [
            "a is greater than b\n"
          ]
        }
      ]
    },
    {
      "cell_type": "markdown",
      "metadata": {
        "id": "uluoiZPvLD79"
      },
      "source": [
        "And Logic Condition"
      ]
    },
    {
      "cell_type": "code",
      "metadata": {
        "colab": {
          "base_uri": "https://localhost:8080/"
        },
        "id": "sfwbkEJOLJpC",
        "outputId": "4974b2e1-5230-414e-8d86-9f8075d7b888"
      },
      "source": [
        "x=7\n",
        "\n",
        "if x>5 and x>6:\n",
        " print(\"Both conditions are True\")"
      ],
      "execution_count": 26,
      "outputs": [
        {
          "output_type": "stream",
          "name": "stdout",
          "text": [
            "Both conditions are True\n"
          ]
        }
      ]
    },
    {
      "cell_type": "markdown",
      "metadata": {
        "id": "HKRMve4tLdh0"
      },
      "source": [
        "Or logic Condition"
      ]
    },
    {
      "cell_type": "code",
      "metadata": {
        "colab": {
          "base_uri": "https://localhost:8080/"
        },
        "id": "26BjEIPMLgD0",
        "outputId": "38ab7bfc-1d20-4e68-a7fa-fa2434341c6f"
      },
      "source": [
        "x=21\n",
        "if x>18 or x<15:\n",
        "  print(\"True\")\n",
        "else:\n",
        "  print(\"False\")"
      ],
      "execution_count": 23,
      "outputs": [
        {
          "output_type": "stream",
          "name": "stdout",
          "text": [
            "True\n"
          ]
        }
      ]
    },
    {
      "cell_type": "code",
      "metadata": {
        "colab": {
          "base_uri": "https://localhost:8080/"
        },
        "id": "IO6ujpkPMDc8",
        "outputId": "73f45f10-3518-4db7-98ab-41d197bca748"
      },
      "source": [
        "if x>10:\n",
        "  print(\"Above 10\")\n",
        "  if x>20:\n",
        "    print(\"Above 20\")\n",
        "  else:\n",
        "    print(\"below 20\")\n",
        "else:\n",
        "  print(\"x is less than 10\")"
      ],
      "execution_count": 25,
      "outputs": [
        {
          "output_type": "stream",
          "name": "stdout",
          "text": [
            "Above 10\n",
            "Above 20\n"
          ]
        }
      ]
    },
    {
      "cell_type": "markdown",
      "metadata": {
        "id": "TWqBV86jM-FE"
      },
      "source": [
        "Example 1"
      ]
    },
    {
      "cell_type": "code",
      "metadata": {
        "colab": {
          "base_uri": "https://localhost:8080/"
        },
        "id": "Ig5WvtSONwIb",
        "outputId": "3396219c-2469-4f1a-91cb-7985c41f1618"
      },
      "source": [
        "age=19\n",
        "if age>=18:\n",
        "  print(\"You are qualified to vote\")\n",
        "else:\n",
        "  print(\"you are not qualified to vote\")"
      ],
      "execution_count": 32,
      "outputs": [
        {
          "output_type": "stream",
          "name": "stdout",
          "text": [
            "You are qualified to vote\n"
          ]
        }
      ]
    },
    {
      "cell_type": "code",
      "metadata": {
        "colab": {
          "base_uri": "https://localhost:8080/"
        },
        "id": "cYfZeSxWM_6M",
        "outputId": "e8a52381-f82e-4910-a8b2-2e4883f0261c"
      },
      "source": [
        "age=int(input(\"Enter your age:\"))\n",
        "if age>=18:\n",
        "  print(\"You are qualified to vote\")\n",
        "else:\n",
        "  print(\"you are not qualified to vote\")\n"
      ],
      "execution_count": 71,
      "outputs": [
        {
          "output_type": "stream",
          "name": "stdout",
          "text": [
            "Enter your age:19\n",
            "You are qualified to vote\n"
          ]
        }
      ]
    },
    {
      "cell_type": "code",
      "metadata": {
        "colab": {
          "base_uri": "https://localhost:8080/"
        },
        "id": "wpKV4zxaNzOT",
        "outputId": "cec74e43-0ff1-409f-e503-1ea117310a4a"
      },
      "source": [
        "age=17\n",
        "if age>=18:\n",
        "  print(\"You are qualified to vote\")\n",
        "else:\n",
        "  print(\"you are not qualified to vote\")"
      ],
      "execution_count": 33,
      "outputs": [
        {
          "output_type": "stream",
          "name": "stdout",
          "text": [
            "you are not qualified to vote\n"
          ]
        }
      ]
    },
    {
      "cell_type": "code",
      "metadata": {
        "colab": {
          "base_uri": "https://localhost:8080/"
        },
        "id": "NoG26X1FNTJt",
        "outputId": "ffd1ab98-aef1-4450-ad90-43ce0c070270"
      },
      "source": [
        "age=int(input(\"Enter your age:\"))\n",
        "if age>=18:\n",
        "  print(\"You are qualified to vote\")\n",
        "else:\n",
        "  print(\"you are not qualified to vote\")\n"
      ],
      "execution_count": 70,
      "outputs": [
        {
          "output_type": "stream",
          "name": "stdout",
          "text": [
            "Enter your age:17\n",
            "you are not qualified to vote\n"
          ]
        }
      ]
    },
    {
      "cell_type": "markdown",
      "metadata": {
        "id": "bdhBuyM1Nohz"
      },
      "source": [
        "Example 2"
      ]
    },
    {
      "cell_type": "code",
      "metadata": {
        "colab": {
          "base_uri": "https://localhost:8080/"
        },
        "id": "8ndmkiyWNp2b",
        "outputId": "b75be20f-5bee-425b-852e-8c1d3037925a"
      },
      "source": [
        "number= float(input(\"Enter the number:\"))\n",
        "if number == 0:\n",
        "    print(\"Zero\")\n",
        "elif number>0:\n",
        "  print(\"Positive\")"
      ],
      "execution_count": 81,
      "outputs": [
        {
          "output_type": "stream",
          "name": "stdout",
          "text": [
            "Enter the number:98.6\n",
            "Positive\n"
          ]
        }
      ]
    },
    {
      "cell_type": "code",
      "metadata": {
        "colab": {
          "base_uri": "https://localhost:8080/"
        },
        "id": "xGKe6cY6THi1",
        "outputId": "039eaf0f-c19c-4836-d4fa-66ac517b4c8c"
      },
      "source": [
        "number= float(input(\"Enter the number:\"))\n",
        "if number == 0:\n",
        "    print(\"Zero\")\n",
        "elif number>0:\n",
        "  print(\"Positive\")"
      ],
      "execution_count": 80,
      "outputs": [
        {
          "output_type": "stream",
          "name": "stdout",
          "text": [
            "Enter the number:0\n",
            "Zero\n"
          ]
        }
      ]
    },
    {
      "cell_type": "code",
      "metadata": {
        "colab": {
          "base_uri": "https://localhost:8080/"
        },
        "id": "eb0sQmSBOj10",
        "outputId": "be5a0635-5df7-46ff-eee3-fcbfbd27e0c3"
      },
      "source": [
        "number= float(input(\"Enter the number:\"))\n",
        "if number == 0:\n",
        "    print(\"Zero\")\n",
        "elif number>0:\n",
        "  print(\"Positive\")\n",
        "else:\n",
        "  print(\"Negative\")"
      ],
      "execution_count": 82,
      "outputs": [
        {
          "output_type": "stream",
          "name": "stdout",
          "text": [
            "Enter the number:-86\n",
            "Negative\n"
          ]
        }
      ]
    },
    {
      "cell_type": "markdown",
      "metadata": {
        "id": "te3MTDb4Qn3T"
      },
      "source": [
        "#Example 3 (ACTIVITY)"
      ]
    },
    {
      "cell_type": "code",
      "metadata": {
        "colab": {
          "base_uri": "https://localhost:8080/"
        },
        "id": "gu17xagLQp7z",
        "outputId": "5a0d6cdb-d9c3-47ba-b013-dfdaec9a339c"
      },
      "source": [
        "grade= float(input(\"Enter the grade:\"))\n",
        "\n",
        "if grade>75 or grade==75:\n",
        "  print(\"Passed\")\n",
        "\n",
        "elif grade==74 or grade> 74:\n",
        "  print(\"Remedial\")\n",
        "  \n",
        "else:\n",
        "  if grade<74:  \n",
        "    print(\"Failed\")\n"
      ],
      "execution_count": 110,
      "outputs": [
        {
          "output_type": "stream",
          "name": "stdout",
          "text": [
            "Enter the grade:95.8\n",
            "Passed\n"
          ]
        }
      ]
    },
    {
      "cell_type": "code",
      "metadata": {
        "colab": {
          "base_uri": "https://localhost:8080/"
        },
        "id": "-GuAldvJk7Wz",
        "outputId": "0e8f84b4-acb6-42ba-dfab-672a45a92044"
      },
      "source": [
        "grade= float(input(\"Enter the grade:\"))\n",
        "\n",
        "if grade>75 or grade==75:\n",
        "  print(\"Passed\")\n",
        "\n",
        "elif grade==74 or grade> 74:\n",
        "  print(\"Remedial\")\n",
        "  \n",
        "else:\n",
        "  if grade<74:  \n",
        "    print(\"Failed\")\n"
      ],
      "execution_count": 113,
      "outputs": [
        {
          "output_type": "stream",
          "name": "stdout",
          "text": [
            "Enter the grade:74.32\n",
            "Remedial\n"
          ]
        }
      ]
    },
    {
      "cell_type": "code",
      "metadata": {
        "colab": {
          "base_uri": "https://localhost:8080/"
        },
        "id": "RFKSkckblFRz",
        "outputId": "0305718c-0f4e-4f74-d6a0-ad1b120991d3"
      },
      "source": [
        "grade= float(input(\"Enter the grade:\"))\n",
        "\n",
        "if grade>75 or grade==75:\n",
        "  print(\"Passed\")\n",
        "\n",
        "elif grade==74 or grade> 74:\n",
        "  print(\"Remedial\")\n",
        "  \n",
        "else:\n",
        "  if grade<74:  \n",
        "    print(\"Failed\")\n"
      ],
      "execution_count": 114,
      "outputs": [
        {
          "output_type": "stream",
          "name": "stdout",
          "text": [
            "Enter the grade:73.444\n",
            "Failed\n"
          ]
        }
      ]
    }
  ]
}