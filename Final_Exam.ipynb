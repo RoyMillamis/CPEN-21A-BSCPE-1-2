{
  "cells": [
    {
      "cell_type": "markdown",
      "metadata": {
        "id": "view-in-github",
        "colab_type": "text"
      },
      "source": [
        "<a href=\"https://colab.research.google.com/github/RoyMillamis/CPEN-21A-CPE-1-2/blob/main/Final_Exam.ipynb\" target=\"_parent\"><img src=\"https://colab.research.google.com/assets/colab-badge.svg\" alt=\"Open In Colab\"/></a>"
      ]
    },
    {
      "cell_type": "markdown",
      "metadata": {
        "id": "LXW9Htx9C4w-"
      },
      "source": [
        "## FINAL EXAM\n"
      ]
    },
    {
      "cell_type": "markdown",
      "metadata": {
        "id": "56unr5ZVDn63"
      },
      "source": [
        "## PROBLEM STATEMENT 1"
      ]
    },
    {
      "cell_type": "code",
      "execution_count": null,
      "metadata": {
        "colab": {
          "base_uri": "https://localhost:8080/"
        },
        "id": "3RDSjCVrq6oM",
        "outputId": "c8015ed5-6179-4724-f26d-25faa051c7dd"
      },
      "outputs": [
        {
          "name": "stdout",
          "output_type": "stream",
          "text": [
            "The sum of the numbers entered is equal to -5\n"
          ]
        }
      ],
      "source": [
        "#Create a Python program that will produce an output of sum of 10 numbers less than 5 using FOR LOOP statement.\n",
        "\n",
        "numbers =[1,2,3,4,0,-5,-4,-3,-2,-1,]\n",
        "sum = 0\n",
        "for x in numbers:\n",
        "    sum = sum + x\n",
        "      \n",
        "\n",
        "print(\"The sum of the numbers entered is equal to\",sum)"
      ]
    },
    {
      "cell_type": "markdown",
      "metadata": {
        "id": "HsI4xTpDEx7_"
      },
      "source": [
        "## PROBLEM STATEMENT 2"
      ]
    },
    {
      "cell_type": "code",
      "execution_count": null,
      "metadata": {
        "colab": {
          "base_uri": "https://localhost:8080/"
        },
        "id": "B3U5mqutE0uH",
        "outputId": "95acab7d-21d8-4997-9bdc-8c1a7963cd01"
      },
      "outputs": [
        {
          "name": "stdout",
          "output_type": "stream",
          "text": [
            "1\n",
            "2\n",
            "3\n",
            "4\n",
            "5\n",
            "The sum of the first and last number is 6\n"
          ]
        }
      ],
      "source": [
        "#Create a Python program that will produce accept five numbers and determine the of sum first and last number among the five numbers entered using WHILE LOOP\n",
        "\n",
        "num=1\n",
        "while num <=5:\n",
        " x=int(input())\n",
        " if num == 1:\n",
        "   a=x\n",
        " if num == 5:\n",
        "   b=x\n",
        " num+=1\n",
        "print(\"The sum of the first and last number is\",a+b)\n",
        "\n"
      ]
    },
    {
      "cell_type": "markdown",
      "metadata": {
        "id": "NIUlbhY_GAkv"
      },
      "source": [
        "## PROBLEM STATEMENT 3"
      ]
    },
    {
      "cell_type": "code",
      "execution_count": null,
      "metadata": {
        "colab": {
          "base_uri": "https://localhost:8080/"
        },
        "id": "4g-BVNe3Gt23",
        "outputId": "30f5c0a1-959c-4075-8521-6b08327fa590"
      },
      "outputs": [
        {
          "output_type": "stream",
          "name": "stdout",
          "text": [
            "Enter the grade: 89\n",
            "B\n"
          ]
        }
      ],
      "source": [
        "grade = float(input(\"Enter the grade: \"))\n",
        "if grade >= 90:\n",
        "  print(\"A\")\n",
        "elif grade >= 80:\n",
        "  print(\"B\")\n",
        "elif grade >=70:\n",
        "  print(\"C\")\n",
        "elif grade>=60:\n",
        "     print(\"D\")\n",
        "else:\n",
        "  print(\"F\")\n",
        " "
      ]
    }
  ],
  "metadata": {
    "colab": {
      "collapsed_sections": [],
      "name": "Final Exam.ipynb",
      "provenance": [],
      "authorship_tag": "ABX9TyNL+Qbks/W0tyNZUCb8jeyJ",
      "include_colab_link": true
    },
    "kernelspec": {
      "display_name": "Python 3",
      "name": "python3"
    },
    "language_info": {
      "name": "python"
    }
  },
  "nbformat": 4,
  "nbformat_minor": 0
}